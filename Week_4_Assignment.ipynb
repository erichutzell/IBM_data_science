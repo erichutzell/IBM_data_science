{
 "cells": [
  {
   "cell_type": "markdown",
   "metadata": {},
   "source": [
    "<center>\n",
    "    <img src=\"https://cf-courses-data.s3.us.cloud-object-storage.appdomain.cloud/IBMDeveloperSkillsNetwork-DS0105EN-SkillsNetwork/labs/Module2/images/SN_web_lightmode.png\" width=\"300\" alt=\"cognitiveclass.ai logo\">\n",
    "</center>\n"
   ]
  },
  {
   "cell_type": "markdown",
   "metadata": {},
   "source": [
    "#### Add your code below following the instructions given in the course\n"
   ]
  },
  {
   "cell_type": "markdown",
   "metadata": {},
   "source": [
    "<h1>My Jupyter Notebook on IBM Watson Studio</h1>"
   ]
  },
  {
   "cell_type": "markdown",
   "metadata": {},
   "source": [
    "<strong>Eric Hutzell</strong> Data Scientist"
   ]
  },
  {
   "cell_type": "markdown",
   "metadata": {},
   "source": [
    "<em>I am intersted in data science because it allow me to help others through knowledge and learning. Learning and helping others is my passion and data science fits into my values very well.</em>\n",
    "\n",
    "\n",
    "<h4>Objectives:</h4>\n",
    "<ul style=\"list-style-type:circle;\">\n",
    "    <li>Learn Data Science</li>\n",
    "    <li>Practice data science techniques</li>\n",
    "    <li>Repeat</li>\n",
    "</ul>"
   ]
  },
  {
   "cell_type": "markdown",
   "metadata": {},
   "source": [
    "<h3>The two cells below creates two variables, a and b, adds them and multiplies them together.</h3>"
   ]
  },
  {
   "cell_type": "code",
   "execution_count": null,
   "metadata": {},
   "outputs": [],
   "source": [
    "a = 1\n",
    "b = 2\n",
    "\n",
    "a+b # output: 3\n"
   ]
  },
  {
   "cell_type": "code",
   "execution_count": null,
   "metadata": {
    "scrolled": true
   },
   "outputs": [],
   "source": [
    "a * b #output: 2"
   ]
  },
  {
   "cell_type": "markdown",
   "metadata": {},
   "source": [
    "# Horizontal Rule\n",
    "<hr>\n",
    "\n",
    "# Data Science Languages\n",
    "<ul style=\"list-style-type:circle;\">\n",
    "    <li>Python</li>\n",
    "    <li>R</li>\n",
    "    <li>SQL</li>\n",
    "</ul>\n",
    "\n",
    "\n",
    "# Data Science Libraries\n",
    "<ul style=\"list-style-type:circle;\">\n",
    "    <li>Numpy</li>\n",
    "    <li>Keras</li>\n",
    "    <li>SciPy</li>\n",
    "</ul>\n",
    "\n",
    "\n",
    "\n",
    "# Data Science Tools\n",
    "<ul style=\"list-style-type:circle;\">\n",
    "    <li>RStudio</li>\n",
    "    <li>Jupyter</li>\n",
    "    <li>IBM Watson</li>\n",
    "</ul>\n",
    "\n",
    "\n",
    "\n",
    "\n",
    "\n",
    "\n",
    "\n",
    "\n",
    "# hyperlinks\n",
    "<a href=\"https://www.giantitp.com/\">Order of the Stick</a>\n",
    "\n",
    "# images\n",
    "<img src=\"https://w3codegenerator.com/img/sample-image/new_zealand-300x225.jpg\" alt=\"New Zealand\">\n",
    "     \n"
   ]
  },
  {
   "cell_type": "code",
   "execution_count": null,
   "metadata": {},
   "outputs": [],
   "source": [
    "# Miunutes to Hours\n",
    "\n",
    "minutes = 120\n",
    "hours = minutes / 60\n",
    "print(hours) # output: 2.0"
   ]
  }
 ],
 "metadata": {
  "kernelspec": {
   "display_name": "Python 3 (ipykernel)",
   "language": "python",
   "name": "python3"
  },
  "language_info": {
   "codemirror_mode": {
    "name": "ipython",
    "version": 3
   },
   "file_extension": ".py",
   "mimetype": "text/x-python",
   "name": "python",
   "nbconvert_exporter": "python",
   "pygments_lexer": "ipython3",
   "version": "3.9.15"
  },
  "varInspector": {
   "cols": {
    "lenName": 16,
    "lenType": 16,
    "lenVar": 40
   },
   "kernels_config": {
    "python": {
     "delete_cmd_postfix": "",
     "delete_cmd_prefix": "del ",
     "library": "var_list.py",
     "varRefreshCmd": "print(var_dic_list())"
    },
    "r": {
     "delete_cmd_postfix": ") ",
     "delete_cmd_prefix": "rm(",
     "library": "var_list.r",
     "varRefreshCmd": "cat(var_dic_list()) "
    }
   },
   "types_to_exclude": [
    "module",
    "function",
    "builtin_function_or_method",
    "instance",
    "_Feature"
   ],
   "window_display": false
  }
 },
 "nbformat": 4,
 "nbformat_minor": 4
}
